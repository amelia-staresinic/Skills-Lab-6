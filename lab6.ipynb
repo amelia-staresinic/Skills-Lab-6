{
 "cells": [
  {
   "cell_type": "code",
   "execution_count": null,
   "id": "2286f14a",
   "metadata": {},
   "outputs": [],
   "source": [
    "```python\n",
    "word = \"hello!\"\n",
    "sentence = \"My name is \"\n",
    "nameOne = \"Amelia\"\n",
    "print(word,sentence,nameOne)\n",
    "\n",
    "intro = \"hi my name is addy!! \"\n",
    "favFood = \"I love mac n cheese... \"\n",
    "major = \"I am a computer science major!\"\n",
    "print(intro + favFood + major)\n",
    "```i contributed the intro\n",
    "\n",
    "    hello! My name is  Amelia\n",
    "    hi my name is addy!! I love mac n cheese... I am a computer science major!\n",
    "\n",
    "\n"
   ]
  },
  {
   "cell_type": "markdown",
   "id": "69d3d1dc",
   "metadata": {},
   "source": [
    "    hello! My name is  Amelia\n",
    "    hi my name is addy!! I love mac n cheese... I am a computer science major!\n",
    "\n"
   ]
  },
  {
   "cell_type": "markdown",
   "id": "19d16f14-623a-4688-9ff8-ee7dfb5e3d81",
   "metadata": {},
   "source": []
  }
 ],
 "metadata": {
  "jupytext": {
   "cell_metadata_filter": "-all",
   "main_language": "python",
   "notebook_metadata_filter": "-all"
  },
  "kernelspec": {
   "display_name": "Python 3 (ipykernel)",
   "language": "python",
   "name": "python3"
  },
  "language_info": {
   "codemirror_mode": {
    "name": "ipython",
    "version": 3
   },
   "file_extension": ".py",
   "mimetype": "text/x-python",
   "name": "python",
   "nbconvert_exporter": "python",
   "pygments_lexer": "ipython3",
   "version": "3.12.4"
  }
 },
 "nbformat": 4,
 "nbformat_minor": 5
}
